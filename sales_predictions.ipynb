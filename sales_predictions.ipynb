{
  "nbformat": 4,
  "nbformat_minor": 0,
  "metadata": {
    "colab": {
      "name": "sales-predictions.ipynb",
      "provenance": [],
      "authorship_tag": "ABX9TyOTGwUSogGekWZiOvqiX03Q",
      "include_colab_link": true
    },
    "kernelspec": {
      "name": "python3",
      "display_name": "Python 3"
    },
    "language_info": {
      "name": "python"
    }
  },
  "cells": [
    {
      "cell_type": "markdown",
      "metadata": {
        "id": "view-in-github",
        "colab_type": "text"
      },
      "source": [
        "<a href=\"https://colab.research.google.com/github/tca-codes/sales-predictions/blob/main/sales_predictions.ipynb\" target=\"_parent\"><img src=\"https://colab.research.google.com/assets/colab-badge.svg\" alt=\"Open In Colab\"/></a>"
      ]
    },
    {
      "cell_type": "markdown",
      "source": [
        "#Project 1 - Part 1"
      ],
      "metadata": {
        "id": "yTBWvssY_ZB6"
      }
    },
    {
      "cell_type": "code",
      "execution_count": 1,
      "metadata": {
        "id": "MJpeovkpF8e2"
      },
      "outputs": [],
      "source": [
        "import pandas as pd\n",
        "filename = '/content/sales_predictions.csv'"
      ]
    },
    {
      "cell_type": "code",
      "source": [
        "df = pd.read_csv(filename)\n",
        "df"
      ],
      "metadata": {
        "id": "PADtUo1vG8XB",
        "outputId": "784d2737-622c-4a79-8dc6-8dbfb08e7abf",
        "colab": {
          "base_uri": "https://localhost:8080/",
          "height": 641
        }
      },
      "execution_count": 2,
      "outputs": [
        {
          "output_type": "execute_result",
          "data": {
            "text/plain": [
              "     Item_Identifier  Item_Weight Item_Fat_Content  Item_Visibility  \\\n",
              "0              FDA15        9.300          Low Fat         0.016047   \n",
              "1              DRC01        5.920          Regular         0.019278   \n",
              "2              FDN15       17.500          Low Fat         0.016760   \n",
              "3              FDX07       19.200          Regular         0.000000   \n",
              "4              NCD19        8.930          Low Fat         0.000000   \n",
              "...              ...          ...              ...              ...   \n",
              "8518           FDF22        6.865          Low Fat         0.056783   \n",
              "8519           FDS36        8.380          Regular         0.046982   \n",
              "8520           NCJ29       10.600          Low Fat         0.035186   \n",
              "8521           FDN46        7.210          Regular         0.145221   \n",
              "8522           DRG01       14.800          Low Fat         0.044878   \n",
              "\n",
              "                  Item_Type  Item_MRP Outlet_Identifier  \\\n",
              "0                     Dairy  249.8092            OUT049   \n",
              "1               Soft Drinks   48.2692            OUT018   \n",
              "2                      Meat  141.6180            OUT049   \n",
              "3     Fruits and Vegetables  182.0950            OUT010   \n",
              "4                 Household   53.8614            OUT013   \n",
              "...                     ...       ...               ...   \n",
              "8518            Snack Foods  214.5218            OUT013   \n",
              "8519           Baking Goods  108.1570            OUT045   \n",
              "8520     Health and Hygiene   85.1224            OUT035   \n",
              "8521            Snack Foods  103.1332            OUT018   \n",
              "8522            Soft Drinks   75.4670            OUT046   \n",
              "\n",
              "      Outlet_Establishment_Year Outlet_Size Outlet_Location_Type  \\\n",
              "0                          1999      Medium               Tier 1   \n",
              "1                          2009      Medium               Tier 3   \n",
              "2                          1999      Medium               Tier 1   \n",
              "3                          1998         NaN               Tier 3   \n",
              "4                          1987        High               Tier 3   \n",
              "...                         ...         ...                  ...   \n",
              "8518                       1987        High               Tier 3   \n",
              "8519                       2002         NaN               Tier 2   \n",
              "8520                       2004       Small               Tier 2   \n",
              "8521                       2009      Medium               Tier 3   \n",
              "8522                       1997       Small               Tier 1   \n",
              "\n",
              "            Outlet_Type  Item_Outlet_Sales  \n",
              "0     Supermarket Type1          3735.1380  \n",
              "1     Supermarket Type2           443.4228  \n",
              "2     Supermarket Type1          2097.2700  \n",
              "3         Grocery Store           732.3800  \n",
              "4     Supermarket Type1           994.7052  \n",
              "...                 ...                ...  \n",
              "8518  Supermarket Type1          2778.3834  \n",
              "8519  Supermarket Type1           549.2850  \n",
              "8520  Supermarket Type1          1193.1136  \n",
              "8521  Supermarket Type2          1845.5976  \n",
              "8522  Supermarket Type1           765.6700  \n",
              "\n",
              "[8523 rows x 12 columns]"
            ],
            "text/html": [
              "\n",
              "  <div id=\"df-c6a2a25c-dd3c-4904-bd80-a6469ac321d5\">\n",
              "    <div class=\"colab-df-container\">\n",
              "      <div>\n",
              "<style scoped>\n",
              "    .dataframe tbody tr th:only-of-type {\n",
              "        vertical-align: middle;\n",
              "    }\n",
              "\n",
              "    .dataframe tbody tr th {\n",
              "        vertical-align: top;\n",
              "    }\n",
              "\n",
              "    .dataframe thead th {\n",
              "        text-align: right;\n",
              "    }\n",
              "</style>\n",
              "<table border=\"1\" class=\"dataframe\">\n",
              "  <thead>\n",
              "    <tr style=\"text-align: right;\">\n",
              "      <th></th>\n",
              "      <th>Item_Identifier</th>\n",
              "      <th>Item_Weight</th>\n",
              "      <th>Item_Fat_Content</th>\n",
              "      <th>Item_Visibility</th>\n",
              "      <th>Item_Type</th>\n",
              "      <th>Item_MRP</th>\n",
              "      <th>Outlet_Identifier</th>\n",
              "      <th>Outlet_Establishment_Year</th>\n",
              "      <th>Outlet_Size</th>\n",
              "      <th>Outlet_Location_Type</th>\n",
              "      <th>Outlet_Type</th>\n",
              "      <th>Item_Outlet_Sales</th>\n",
              "    </tr>\n",
              "  </thead>\n",
              "  <tbody>\n",
              "    <tr>\n",
              "      <th>0</th>\n",
              "      <td>FDA15</td>\n",
              "      <td>9.300</td>\n",
              "      <td>Low Fat</td>\n",
              "      <td>0.016047</td>\n",
              "      <td>Dairy</td>\n",
              "      <td>249.8092</td>\n",
              "      <td>OUT049</td>\n",
              "      <td>1999</td>\n",
              "      <td>Medium</td>\n",
              "      <td>Tier 1</td>\n",
              "      <td>Supermarket Type1</td>\n",
              "      <td>3735.1380</td>\n",
              "    </tr>\n",
              "    <tr>\n",
              "      <th>1</th>\n",
              "      <td>DRC01</td>\n",
              "      <td>5.920</td>\n",
              "      <td>Regular</td>\n",
              "      <td>0.019278</td>\n",
              "      <td>Soft Drinks</td>\n",
              "      <td>48.2692</td>\n",
              "      <td>OUT018</td>\n",
              "      <td>2009</td>\n",
              "      <td>Medium</td>\n",
              "      <td>Tier 3</td>\n",
              "      <td>Supermarket Type2</td>\n",
              "      <td>443.4228</td>\n",
              "    </tr>\n",
              "    <tr>\n",
              "      <th>2</th>\n",
              "      <td>FDN15</td>\n",
              "      <td>17.500</td>\n",
              "      <td>Low Fat</td>\n",
              "      <td>0.016760</td>\n",
              "      <td>Meat</td>\n",
              "      <td>141.6180</td>\n",
              "      <td>OUT049</td>\n",
              "      <td>1999</td>\n",
              "      <td>Medium</td>\n",
              "      <td>Tier 1</td>\n",
              "      <td>Supermarket Type1</td>\n",
              "      <td>2097.2700</td>\n",
              "    </tr>\n",
              "    <tr>\n",
              "      <th>3</th>\n",
              "      <td>FDX07</td>\n",
              "      <td>19.200</td>\n",
              "      <td>Regular</td>\n",
              "      <td>0.000000</td>\n",
              "      <td>Fruits and Vegetables</td>\n",
              "      <td>182.0950</td>\n",
              "      <td>OUT010</td>\n",
              "      <td>1998</td>\n",
              "      <td>NaN</td>\n",
              "      <td>Tier 3</td>\n",
              "      <td>Grocery Store</td>\n",
              "      <td>732.3800</td>\n",
              "    </tr>\n",
              "    <tr>\n",
              "      <th>4</th>\n",
              "      <td>NCD19</td>\n",
              "      <td>8.930</td>\n",
              "      <td>Low Fat</td>\n",
              "      <td>0.000000</td>\n",
              "      <td>Household</td>\n",
              "      <td>53.8614</td>\n",
              "      <td>OUT013</td>\n",
              "      <td>1987</td>\n",
              "      <td>High</td>\n",
              "      <td>Tier 3</td>\n",
              "      <td>Supermarket Type1</td>\n",
              "      <td>994.7052</td>\n",
              "    </tr>\n",
              "    <tr>\n",
              "      <th>...</th>\n",
              "      <td>...</td>\n",
              "      <td>...</td>\n",
              "      <td>...</td>\n",
              "      <td>...</td>\n",
              "      <td>...</td>\n",
              "      <td>...</td>\n",
              "      <td>...</td>\n",
              "      <td>...</td>\n",
              "      <td>...</td>\n",
              "      <td>...</td>\n",
              "      <td>...</td>\n",
              "      <td>...</td>\n",
              "    </tr>\n",
              "    <tr>\n",
              "      <th>8518</th>\n",
              "      <td>FDF22</td>\n",
              "      <td>6.865</td>\n",
              "      <td>Low Fat</td>\n",
              "      <td>0.056783</td>\n",
              "      <td>Snack Foods</td>\n",
              "      <td>214.5218</td>\n",
              "      <td>OUT013</td>\n",
              "      <td>1987</td>\n",
              "      <td>High</td>\n",
              "      <td>Tier 3</td>\n",
              "      <td>Supermarket Type1</td>\n",
              "      <td>2778.3834</td>\n",
              "    </tr>\n",
              "    <tr>\n",
              "      <th>8519</th>\n",
              "      <td>FDS36</td>\n",
              "      <td>8.380</td>\n",
              "      <td>Regular</td>\n",
              "      <td>0.046982</td>\n",
              "      <td>Baking Goods</td>\n",
              "      <td>108.1570</td>\n",
              "      <td>OUT045</td>\n",
              "      <td>2002</td>\n",
              "      <td>NaN</td>\n",
              "      <td>Tier 2</td>\n",
              "      <td>Supermarket Type1</td>\n",
              "      <td>549.2850</td>\n",
              "    </tr>\n",
              "    <tr>\n",
              "      <th>8520</th>\n",
              "      <td>NCJ29</td>\n",
              "      <td>10.600</td>\n",
              "      <td>Low Fat</td>\n",
              "      <td>0.035186</td>\n",
              "      <td>Health and Hygiene</td>\n",
              "      <td>85.1224</td>\n",
              "      <td>OUT035</td>\n",
              "      <td>2004</td>\n",
              "      <td>Small</td>\n",
              "      <td>Tier 2</td>\n",
              "      <td>Supermarket Type1</td>\n",
              "      <td>1193.1136</td>\n",
              "    </tr>\n",
              "    <tr>\n",
              "      <th>8521</th>\n",
              "      <td>FDN46</td>\n",
              "      <td>7.210</td>\n",
              "      <td>Regular</td>\n",
              "      <td>0.145221</td>\n",
              "      <td>Snack Foods</td>\n",
              "      <td>103.1332</td>\n",
              "      <td>OUT018</td>\n",
              "      <td>2009</td>\n",
              "      <td>Medium</td>\n",
              "      <td>Tier 3</td>\n",
              "      <td>Supermarket Type2</td>\n",
              "      <td>1845.5976</td>\n",
              "    </tr>\n",
              "    <tr>\n",
              "      <th>8522</th>\n",
              "      <td>DRG01</td>\n",
              "      <td>14.800</td>\n",
              "      <td>Low Fat</td>\n",
              "      <td>0.044878</td>\n",
              "      <td>Soft Drinks</td>\n",
              "      <td>75.4670</td>\n",
              "      <td>OUT046</td>\n",
              "      <td>1997</td>\n",
              "      <td>Small</td>\n",
              "      <td>Tier 1</td>\n",
              "      <td>Supermarket Type1</td>\n",
              "      <td>765.6700</td>\n",
              "    </tr>\n",
              "  </tbody>\n",
              "</table>\n",
              "<p>8523 rows × 12 columns</p>\n",
              "</div>\n",
              "      <button class=\"colab-df-convert\" onclick=\"convertToInteractive('df-c6a2a25c-dd3c-4904-bd80-a6469ac321d5')\"\n",
              "              title=\"Convert this dataframe to an interactive table.\"\n",
              "              style=\"display:none;\">\n",
              "        \n",
              "  <svg xmlns=\"http://www.w3.org/2000/svg\" height=\"24px\"viewBox=\"0 0 24 24\"\n",
              "       width=\"24px\">\n",
              "    <path d=\"M0 0h24v24H0V0z\" fill=\"none\"/>\n",
              "    <path d=\"M18.56 5.44l.94 2.06.94-2.06 2.06-.94-2.06-.94-.94-2.06-.94 2.06-2.06.94zm-11 1L8.5 8.5l.94-2.06 2.06-.94-2.06-.94L8.5 2.5l-.94 2.06-2.06.94zm10 10l.94 2.06.94-2.06 2.06-.94-2.06-.94-.94-2.06-.94 2.06-2.06.94z\"/><path d=\"M17.41 7.96l-1.37-1.37c-.4-.4-.92-.59-1.43-.59-.52 0-1.04.2-1.43.59L10.3 9.45l-7.72 7.72c-.78.78-.78 2.05 0 2.83L4 21.41c.39.39.9.59 1.41.59.51 0 1.02-.2 1.41-.59l7.78-7.78 2.81-2.81c.8-.78.8-2.07 0-2.86zM5.41 20L4 18.59l7.72-7.72 1.47 1.35L5.41 20z\"/>\n",
              "  </svg>\n",
              "      </button>\n",
              "      \n",
              "  <style>\n",
              "    .colab-df-container {\n",
              "      display:flex;\n",
              "      flex-wrap:wrap;\n",
              "      gap: 12px;\n",
              "    }\n",
              "\n",
              "    .colab-df-convert {\n",
              "      background-color: #E8F0FE;\n",
              "      border: none;\n",
              "      border-radius: 50%;\n",
              "      cursor: pointer;\n",
              "      display: none;\n",
              "      fill: #1967D2;\n",
              "      height: 32px;\n",
              "      padding: 0 0 0 0;\n",
              "      width: 32px;\n",
              "    }\n",
              "\n",
              "    .colab-df-convert:hover {\n",
              "      background-color: #E2EBFA;\n",
              "      box-shadow: 0px 1px 2px rgba(60, 64, 67, 0.3), 0px 1px 3px 1px rgba(60, 64, 67, 0.15);\n",
              "      fill: #174EA6;\n",
              "    }\n",
              "\n",
              "    [theme=dark] .colab-df-convert {\n",
              "      background-color: #3B4455;\n",
              "      fill: #D2E3FC;\n",
              "    }\n",
              "\n",
              "    [theme=dark] .colab-df-convert:hover {\n",
              "      background-color: #434B5C;\n",
              "      box-shadow: 0px 1px 3px 1px rgba(0, 0, 0, 0.15);\n",
              "      filter: drop-shadow(0px 1px 2px rgba(0, 0, 0, 0.3));\n",
              "      fill: #FFFFFF;\n",
              "    }\n",
              "  </style>\n",
              "\n",
              "      <script>\n",
              "        const buttonEl =\n",
              "          document.querySelector('#df-c6a2a25c-dd3c-4904-bd80-a6469ac321d5 button.colab-df-convert');\n",
              "        buttonEl.style.display =\n",
              "          google.colab.kernel.accessAllowed ? 'block' : 'none';\n",
              "\n",
              "        async function convertToInteractive(key) {\n",
              "          const element = document.querySelector('#df-c6a2a25c-dd3c-4904-bd80-a6469ac321d5');\n",
              "          const dataTable =\n",
              "            await google.colab.kernel.invokeFunction('convertToInteractive',\n",
              "                                                     [key], {});\n",
              "          if (!dataTable) return;\n",
              "\n",
              "          const docLinkHtml = 'Like what you see? Visit the ' +\n",
              "            '<a target=\"_blank\" href=https://colab.research.google.com/notebooks/data_table.ipynb>data table notebook</a>'\n",
              "            + ' to learn more about interactive tables.';\n",
              "          element.innerHTML = '';\n",
              "          dataTable['output_type'] = 'display_data';\n",
              "          await google.colab.output.renderOutput(dataTable, element);\n",
              "          const docLink = document.createElement('div');\n",
              "          docLink.innerHTML = docLinkHtml;\n",
              "          element.appendChild(docLink);\n",
              "        }\n",
              "      </script>\n",
              "    </div>\n",
              "  </div>\n",
              "  "
            ]
          },
          "metadata": {},
          "execution_count": 2
        }
      ]
    },
    {
      "cell_type": "markdown",
      "source": [
        "#Project 1 - Part 2"
      ],
      "metadata": {
        "id": "c6LpTdEf_T2G"
      }
    },
    {
      "cell_type": "markdown",
      "source": [
        "How many rows and columns?"
      ],
      "metadata": {
        "id": "wFEcISv0O3aP"
      }
    },
    {
      "cell_type": "code",
      "source": [
        "df.shape"
      ],
      "metadata": {
        "colab": {
          "base_uri": "https://localhost:8080/"
        },
        "id": "ulk6EeFnWi-q",
        "outputId": "9a1b7089-3901-4d04-959f-4d223a93a75c"
      },
      "execution_count": 3,
      "outputs": [
        {
          "output_type": "execute_result",
          "data": {
            "text/plain": [
              "(8523, 12)"
            ]
          },
          "metadata": {},
          "execution_count": 3
        }
      ]
    },
    {
      "cell_type": "markdown",
      "source": [
        "What are the datatypes of each variable?"
      ],
      "metadata": {
        "id": "sm4trlLiO9hW"
      }
    },
    {
      "cell_type": "code",
      "source": [
        "df.dtypes"
      ],
      "metadata": {
        "colab": {
          "base_uri": "https://localhost:8080/"
        },
        "id": "UQJfSjC_Ws0I",
        "outputId": "cc43b650-c805-4aea-9f3c-2b4e1e676473"
      },
      "execution_count": 4,
      "outputs": [
        {
          "output_type": "execute_result",
          "data": {
            "text/plain": [
              "Item_Identifier               object\n",
              "Item_Weight                  float64\n",
              "Item_Fat_Content              object\n",
              "Item_Visibility              float64\n",
              "Item_Type                     object\n",
              "Item_MRP                     float64\n",
              "Outlet_Identifier             object\n",
              "Outlet_Establishment_Year      int64\n",
              "Outlet_Size                   object\n",
              "Outlet_Location_Type          object\n",
              "Outlet_Type                   object\n",
              "Item_Outlet_Sales            float64\n",
              "dtype: object"
            ]
          },
          "metadata": {},
          "execution_count": 4
        }
      ]
    },
    {
      "cell_type": "markdown",
      "source": [
        "Are there duplicates?"
      ],
      "metadata": {
        "id": "5M7kXIsGPCdh"
      }
    },
    {
      "cell_type": "code",
      "source": [
        "df.duplicated().sum()"
      ],
      "metadata": {
        "colab": {
          "base_uri": "https://localhost:8080/"
        },
        "id": "CTTGAjcdW1Po",
        "outputId": "2e69ddf5-b384-4001-ab77-3d7c48e967a3"
      },
      "execution_count": 5,
      "outputs": [
        {
          "output_type": "execute_result",
          "data": {
            "text/plain": [
              "0"
            ]
          },
          "metadata": {},
          "execution_count": 5
        }
      ]
    },
    {
      "cell_type": "markdown",
      "source": [
        "Identify missing values\n"
      ],
      "metadata": {
        "id": "7yoLY2j2PHvL"
      }
    },
    {
      "cell_type": "code",
      "source": [
        "df.isnull().sum()"
      ],
      "metadata": {
        "colab": {
          "base_uri": "https://localhost:8080/"
        },
        "id": "3qwGv3K192wR",
        "outputId": "b7270573-f7ed-4863-944a-a4ddd0bca79f"
      },
      "execution_count": 6,
      "outputs": [
        {
          "output_type": "execute_result",
          "data": {
            "text/plain": [
              "Item_Identifier                 0\n",
              "Item_Weight                  1463\n",
              "Item_Fat_Content                0\n",
              "Item_Visibility                 0\n",
              "Item_Type                       0\n",
              "Item_MRP                        0\n",
              "Outlet_Identifier               0\n",
              "Outlet_Establishment_Year       0\n",
              "Outlet_Size                  2410\n",
              "Outlet_Location_Type            0\n",
              "Outlet_Type                     0\n",
              "Item_Outlet_Sales               0\n",
              "dtype: int64"
            ]
          },
          "metadata": {},
          "execution_count": 6
        }
      ]
    },
    {
      "cell_type": "code",
      "source": [
        "#Outlet Identifiers and their Outlet Sizes\n",
        "#dropna includes null values\n",
        "df.groupby('Outlet_Identifier')['Outlet_Size'].value_counts(dropna=False)"
      ],
      "metadata": {
        "colab": {
          "base_uri": "https://localhost:8080/"
        },
        "id": "U3Lc1oX-_r3k",
        "outputId": "cba8559c-6bd2-465a-98bf-e5bcfdb5819d"
      },
      "execution_count": 7,
      "outputs": [
        {
          "output_type": "execute_result",
          "data": {
            "text/plain": [
              "Outlet_Identifier  Outlet_Size\n",
              "OUT010             NaN            555\n",
              "OUT013             High           932\n",
              "OUT017             NaN            926\n",
              "OUT018             Medium         928\n",
              "OUT019             Small          528\n",
              "OUT027             Medium         935\n",
              "OUT035             Small          930\n",
              "OUT045             NaN            929\n",
              "OUT046             Small          930\n",
              "OUT049             Medium         930\n",
              "Name: Outlet_Size, dtype: int64"
            ]
          },
          "metadata": {},
          "execution_count": 7
        }
      ]
    },
    {
      "cell_type": "markdown",
      "source": [
        "Fill missing Outlet Sizes as \"Medium\" since it is the frequently used value in the dataset."
      ],
      "metadata": {
        "id": "Vhn45SdBiY9e"
      }
    },
    {
      "cell_type": "code",
      "source": [
        "df['Outlet_Size'] = df['Outlet_Size'].fillna('Medium')"
      ],
      "metadata": {
        "id": "7di77R4mimSo"
      },
      "execution_count": 8,
      "outputs": []
    },
    {
      "cell_type": "code",
      "source": [
        "df.groupby('Outlet_Identifier')['Outlet_Size'].value_counts(dropna=False)"
      ],
      "metadata": {
        "colab": {
          "base_uri": "https://localhost:8080/"
        },
        "id": "Wik_dKLXmCOY",
        "outputId": "c34a9535-3183-408a-8dcb-edc85eeaa772"
      },
      "execution_count": 9,
      "outputs": [
        {
          "output_type": "execute_result",
          "data": {
            "text/plain": [
              "Outlet_Identifier  Outlet_Size\n",
              "OUT010             Medium         555\n",
              "OUT013             High           932\n",
              "OUT017             Medium         926\n",
              "OUT018             Medium         928\n",
              "OUT019             Small          528\n",
              "OUT027             Medium         935\n",
              "OUT035             Small          930\n",
              "OUT045             Medium         929\n",
              "OUT046             Small          930\n",
              "OUT049             Medium         930\n",
              "Name: Outlet_Size, dtype: int64"
            ]
          },
          "metadata": {},
          "execution_count": 9
        }
      ]
    },
    {
      "cell_type": "code",
      "source": [
        "df.isnull().sum()"
      ],
      "metadata": {
        "colab": {
          "base_uri": "https://localhost:8080/"
        },
        "id": "xsj9q8IZmGMK",
        "outputId": "35098efa-87f7-4dba-989a-f6631e5c3000"
      },
      "execution_count": 10,
      "outputs": [
        {
          "output_type": "execute_result",
          "data": {
            "text/plain": [
              "Item_Identifier                 0\n",
              "Item_Weight                  1463\n",
              "Item_Fat_Content                0\n",
              "Item_Visibility                 0\n",
              "Item_Type                       0\n",
              "Item_MRP                        0\n",
              "Outlet_Identifier               0\n",
              "Outlet_Establishment_Year       0\n",
              "Outlet_Size                     0\n",
              "Outlet_Location_Type            0\n",
              "Outlet_Type                     0\n",
              "Item_Outlet_Sales               0\n",
              "dtype: int64"
            ]
          },
          "metadata": {},
          "execution_count": 10
        }
      ]
    },
    {
      "cell_type": "code",
      "source": [
        "#Item Identifiers and their Item Weights\n",
        "#dropna includes null values\n",
        "df.groupby('Item_Identifier')['Item_Weight'].value_counts(dropna=False)"
      ],
      "metadata": {
        "colab": {
          "base_uri": "https://localhost:8080/"
        },
        "id": "_vD8JcTGARwi",
        "outputId": "ba53ce75-c04f-4519-bd6c-51514b18cbec"
      },
      "execution_count": 11,
      "outputs": [
        {
          "output_type": "execute_result",
          "data": {
            "text/plain": [
              "Item_Identifier  Item_Weight\n",
              "DRA12            11.60          6\n",
              "DRA24            19.35          5\n",
              "                 NaN            2\n",
              "DRA59            8.27           6\n",
              "                 NaN            2\n",
              "                               ..\n",
              "NCZ42            10.50          5\n",
              "NCZ53            9.60           4\n",
              "                 NaN            1\n",
              "NCZ54            14.65          5\n",
              "                 NaN            2\n",
              "Name: Item_Weight, Length: 2697, dtype: int64"
            ]
          },
          "metadata": {},
          "execution_count": 11
        }
      ]
    },
    {
      "cell_type": "markdown",
      "source": [
        "Fill the Item_Weight based on the Item_identifier values."
      ],
      "metadata": {
        "id": "5M0vj18fmJxF"
      }
    },
    {
      "cell_type": "code",
      "source": [
        "d = df.dropna(subset=['Item_Weight']).set_index('Item_Identifier')['Item_Weight'].to_dict()\n",
        "d"
      ],
      "metadata": {
        "colab": {
          "base_uri": "https://localhost:8080/"
        },
        "id": "SUlp5FU64Lk8",
        "outputId": "452fee0c-0a73-4067-fba7-9e02ea1d013d"
      },
      "execution_count": 12,
      "outputs": [
        {
          "output_type": "execute_result",
          "data": {
            "text/plain": [
              "{'FDA15': 9.3,\n",
              " 'DRC01': 5.92,\n",
              " 'FDN15': 17.5,\n",
              " 'FDX07': 19.2,\n",
              " 'NCD19': 8.93,\n",
              " 'FDP36': 10.395,\n",
              " 'FDO10': 13.65,\n",
              " 'FDH17': 16.2,\n",
              " 'FDU28': 19.2,\n",
              " 'FDY07': 11.8,\n",
              " 'FDA03': 18.5,\n",
              " 'FDX32': 15.1,\n",
              " 'FDS46': 17.6,\n",
              " 'FDF32': 16.35,\n",
              " 'FDP49': 9.0,\n",
              " 'NCB42': 11.8,\n",
              " 'FDU02': 13.35,\n",
              " 'FDN22': 18.85,\n",
              " 'NCB30': 14.6,\n",
              " 'FDR28': 13.85,\n",
              " 'NCD06': 13.0,\n",
              " 'FDV10': 7.645,\n",
              " 'DRJ59': 11.65,\n",
              " 'FDE51': 5.925,\n",
              " 'FDV38': 19.25,\n",
              " 'NCS17': 18.6,\n",
              " 'FDP33': 18.7,\n",
              " 'FDO23': 17.85,\n",
              " 'DRH01': 17.5,\n",
              " 'NCX29': 10.0,\n",
              " 'DRZ11': 8.85,\n",
              " 'FDK43': 9.8,\n",
              " 'FDA46': 13.6,\n",
              " 'FDC02': 21.35,\n",
              " 'FDL50': 12.15,\n",
              " 'FDM39': 6.42,\n",
              " 'NCP05': 19.6,\n",
              " 'FDV49': 10.0,\n",
              " 'FDL12': 15.85,\n",
              " 'NCL17': 7.39,\n",
              " 'FDM40': 10.195,\n",
              " 'FDR13': 9.895,\n",
              " 'FDA43': 10.895,\n",
              " 'NCP18': 12.15,\n",
              " 'FDK21': 7.905,\n",
              " 'NCX54': 9.195,\n",
              " 'DRK35': 8.365,\n",
              " 'FDY21': 15.1,\n",
              " 'FDM20': 10.0,\n",
              " 'FDV27': 7.97,\n",
              " 'FDC46': 17.7,\n",
              " 'FDH19': 19.35,\n",
              " 'FDZ03': 13.65,\n",
              " 'DRH37': 17.6,\n",
              " 'NCI17': 8.645,\n",
              " 'FDJ58': 15.6,\n",
              " 'FDH35': 18.25,\n",
              " 'FDG02': 7.855,\n",
              " 'NCZ18': 7.825,\n",
              " 'FDC29': 8.39,\n",
              " 'FDQ10': 12.85,\n",
              " 'FDL04': 19.0,\n",
              " 'FDV25': 5.905,\n",
              " 'FDD58': 7.76,\n",
              " 'FDN04': 11.8,\n",
              " 'FDV45': 16.75,\n",
              " 'FDG20': 15.5,\n",
              " 'FDZ55': 6.055,\n",
              " 'FDN33': 6.305,\n",
              " 'FDN27': 20.85,\n",
              " 'FDW20': 20.75,\n",
              " 'DRG27': 8.895,\n",
              " 'DRI25': 19.6,\n",
              " 'FDA44': 19.7,\n",
              " 'NCR17': 9.8,\n",
              " 'FDF41': 12.15,\n",
              " 'FDB56': 8.75,\n",
              " 'FDT28': 13.3,\n",
              " 'FDW57': 8.31,\n",
              " 'DRB48': 16.75,\n",
              " 'FDP09': 19.75,\n",
              " 'FDH14': 17.1,\n",
              " 'FDA47': 10.5,\n",
              " 'FDG12': 6.635,\n",
              " 'DRK49': 14.15,\n",
              " 'FDD03': 13.3,\n",
              " 'FDS52': 8.89,\n",
              " 'FDV11': 9.1,\n",
              " 'FDD17': 7.5,\n",
              " 'FDZ16': 16.85,\n",
              " 'FDZ46': 7.485,\n",
              " 'DRA12': 11.6,\n",
              " 'FDY58': 11.65,\n",
              " 'NCF19': 13.0,\n",
              " 'DRJ13': 12.65,\n",
              " 'FDB14': 20.25,\n",
              " 'FDJ38': 8.6,\n",
              " 'FDW11': 12.6,\n",
              " 'FDL40': 17.7,\n",
              " 'DRI49': 14.15,\n",
              " 'DRG23': 8.88,\n",
              " 'NCP30': 20.5,\n",
              " 'NCH54': 13.5,\n",
              " 'NCO26': 7.235,\n",
              " 'FDB51': 6.92,\n",
              " 'FDX44': 9.3,\n",
              " 'NCN07': 18.5,\n",
              " 'NCC31': 8.02,\n",
              " 'NCO55': 12.8,\n",
              " 'NCC30': 16.6,\n",
              " 'FDI16': 14.0,\n",
              " 'FDP16': 18.6,\n",
              " 'FDB11': 16.0,\n",
              " 'NCB06': 17.6,\n",
              " 'FDA45': 21.25,\n",
              " 'DRJ25': 14.6,\n",
              " 'FDI04': 13.65,\n",
              " 'FDX20': 7.365,\n",
              " 'NCI18': 18.35,\n",
              " 'FDB36': 5.465,\n",
              " 'FDN13': 18.6,\n",
              " 'DRD24': 13.85,\n",
              " 'FDQ28': 14.0,\n",
              " 'FDM22': 14.0,\n",
              " 'DRF49': 7.27,\n",
              " 'FDW51': 6.155,\n",
              " 'DRL01': 19.5,\n",
              " 'FDP25': 15.2,\n",
              " 'NCM43': 14.5,\n",
              " 'FDK44': 16.6,\n",
              " 'FDM15': 11.8,\n",
              " 'FDS31': 13.1,\n",
              " 'FDI32': 17.7,\n",
              " 'FDR47': 17.85,\n",
              " 'FDB35': 12.3,\n",
              " 'NCU05': 11.8,\n",
              " 'FDO24': 11.1,\n",
              " 'FDV39': 11.3,\n",
              " 'FDU50': 5.75,\n",
              " 'FDK58': 11.35,\n",
              " 'NCW29': 14.0,\n",
              " 'FDE04': 19.75,\n",
              " 'NCB19': 6.525,\n",
              " 'FDV15': 10.3,\n",
              " 'FDL58': 5.78,\n",
              " 'FDA08': 11.85,\n",
              " 'FDT43': 16.35,\n",
              " 'FDT20': 10.5,\n",
              " 'FDB41': 19.0,\n",
              " 'NCN55': 14.6,\n",
              " 'NCM53': 18.75,\n",
              " 'FDE36': 5.26,\n",
              " 'FDN57': 18.25,\n",
              " 'FDI19': 15.1,\n",
              " 'FDF24': 15.5,\n",
              " 'FDG52': 13.65,\n",
              " 'DRF36': 16.1,\n",
              " 'FDX40': 12.85,\n",
              " 'DRK12': 9.5,\n",
              " 'DRC27': 13.8,\n",
              " 'NCD30': 19.7,\n",
              " 'NCZ54': 14.65,\n",
              " 'FDE10': 6.67,\n",
              " 'FDR44': 6.11,\n",
              " 'FDP28': 13.65,\n",
              " 'FDX15': 17.2,\n",
              " 'FDA39': 6.32,\n",
              " 'FDY24': 4.88,\n",
              " 'FDC60': 5.425,\n",
              " 'FDH28': 15.85,\n",
              " 'FDT25': 7.5,\n",
              " 'FDS49': 9.0,\n",
              " 'FDL56': 14.1,\n",
              " 'FDF14': 7.55,\n",
              " 'NCR38': 17.25,\n",
              " 'NCR18': 15.85,\n",
              " 'NCU41': 18.85,\n",
              " 'FDY56': 16.35,\n",
              " 'DRJ51': 14.1,\n",
              " 'FDY25': 12.0,\n",
              " 'FDU44': 12.15,\n",
              " 'FDL43': 10.1,\n",
              " 'FDF05': 17.5,\n",
              " 'FDL20': 17.1,\n",
              " 'FDV32': 7.785,\n",
              " 'FDJ34': 11.8,\n",
              " 'FDG08': 13.15,\n",
              " 'FDW13': 8.5,\n",
              " 'FDY03': 17.6,\n",
              " 'FDS12': 9.1,\n",
              " 'FDJ55': 12.8,\n",
              " 'DRK01': 7.63,\n",
              " 'FDG28': 9.285,\n",
              " 'FDY38': 13.6,\n",
              " 'FDN01': 8.895,\n",
              " 'NCR54': 16.35,\n",
              " 'FDG29': 17.6,\n",
              " 'FDG24': 7.975,\n",
              " 'FDG59': 15.85,\n",
              " 'FDM28': 15.7,\n",
              " 'FDW04': 8.985,\n",
              " 'FDS26': 20.35,\n",
              " 'FDQ56': 6.59,\n",
              " 'FDK51': 19.85,\n",
              " 'FDL22': 16.85,\n",
              " 'FDY55': 16.75,\n",
              " 'FDZ32': 7.785,\n",
              " 'DRE49': 20.75,\n",
              " 'FDT39': 6.26,\n",
              " 'FDE08': 18.2,\n",
              " 'FDB57': 20.25,\n",
              " 'NCT54': 8.695,\n",
              " 'FDF20': 12.85,\n",
              " 'FDH27': 7.075,\n",
              " 'FDY59': 8.195,\n",
              " 'FDK36': 7.09,\n",
              " 'NCM31': 6.095,\n",
              " 'FDE33': 19.35,\n",
              " 'FDU36': 6.15,\n",
              " 'NCQ54': 17.7,\n",
              " 'DRE60': 9.395,\n",
              " 'DRP47': 15.75,\n",
              " 'FDB21': 7.475,\n",
              " 'FDR04': 7.075,\n",
              " 'FDX23': 6.445,\n",
              " 'FDX19': 19.1,\n",
              " 'FDD40': 20.25,\n",
              " 'FDA01': 15.0,\n",
              " 'FDS33': 6.67,\n",
              " 'FDB29': 16.7,\n",
              " 'FDF46': 7.07,\n",
              " 'FDA33': 6.48,\n",
              " 'FDC08': 19.0,\n",
              " 'FDB53': 13.35,\n",
              " 'FDX36': 9.695,\n",
              " 'DRD13': 15.0,\n",
              " 'FDC52': 11.15,\n",
              " 'FDB45': 20.85,\n",
              " 'NCK19': 9.8,\n",
              " 'FDV51': 16.35,\n",
              " 'FDZ35': 9.6,\n",
              " 'FDV59': 13.35,\n",
              " 'DRH39': 20.7,\n",
              " 'FDU55': 16.2,\n",
              " 'NCO43': 5.5,\n",
              " 'FDQ07': 15.1,\n",
              " 'FDF28': 15.7,\n",
              " 'FDM01': 7.895,\n",
              " 'FDR24': 17.35,\n",
              " 'NCY18': 7.285,\n",
              " 'NCY30': 20.25,\n",
              " 'DRI37': 15.85,\n",
              " 'FDL27': 6.17,\n",
              " 'NCO30': 19.5,\n",
              " 'NCB07': 19.2,\n",
              " 'FDX25': 16.7,\n",
              " 'FDP59': 20.85,\n",
              " 'FDR59': 14.5,\n",
              " 'FDT27': 11.395,\n",
              " 'DRI01': 7.97,\n",
              " 'FDU09': 7.71,\n",
              " 'FDH26': 19.25,\n",
              " 'FDH40': 11.6,\n",
              " 'DRN47': 12.1,\n",
              " 'NCO17': 10.0,\n",
              " 'FDX60': 14.35,\n",
              " 'FDT22': 10.395,\n",
              " 'FDG45': 8.1,\n",
              " 'FDD44': 8.05,\n",
              " 'FDS15': 9.195,\n",
              " 'FDL51': 20.7,\n",
              " 'FDL32': 15.7,\n",
              " 'NCA54': 16.5,\n",
              " 'FDX09': 9.0,\n",
              " 'FDO51': 6.785,\n",
              " 'FDW49': 19.5,\n",
              " 'FDB27': 7.575,\n",
              " 'FDF45': 18.2,\n",
              " 'FDV02': 16.75,\n",
              " 'FDY28': 7.47,\n",
              " 'FDP51': 13.85,\n",
              " 'FDL52': 6.635,\n",
              " 'FDB34': 15.25,\n",
              " 'FDC50': 15.85,\n",
              " 'FDT57': 15.2,\n",
              " 'FDY32': 7.605,\n",
              " 'FDW07': 18.0,\n",
              " 'NCF18': 18.35,\n",
              " 'FDN58': 13.8,\n",
              " 'FDG35': 21.2,\n",
              " 'FDY34': 10.5,\n",
              " 'NCE19': 8.97,\n",
              " 'NCJ29': 10.6,\n",
              " 'FDT59': 13.65,\n",
              " 'NCX41': 19.0,\n",
              " 'FDF22': 6.865,\n",
              " 'FDM60': 10.8,\n",
              " 'FDR02': 16.7,\n",
              " 'FDS48': 15.15,\n",
              " 'NCZ42': 10.5,\n",
              " 'FDZ38': 17.6,\n",
              " 'NCB55': 15.7,\n",
              " 'FDC15': 18.1,\n",
              " 'FDF11': 10.195,\n",
              " 'FDB44': 6.655,\n",
              " 'NCC06': 19.0,\n",
              " 'FDB17': 13.15,\n",
              " 'FDW43': 20.1,\n",
              " 'FDA27': 20.35,\n",
              " 'FDN32': 17.5,\n",
              " 'FDZ27': 7.935,\n",
              " 'FDU01': 20.25,\n",
              " 'FDF10': 15.5,\n",
              " 'DRI13': 15.35,\n",
              " 'NCR05': 10.1,\n",
              " 'FDI35': 14.0,\n",
              " 'FDX08': 12.85,\n",
              " 'NCJ18': 12.35,\n",
              " 'FDJ41': 6.85,\n",
              " 'FDU08': 10.3,\n",
              " 'DRH15': 8.775,\n",
              " 'NCV17': 18.85,\n",
              " 'FDE24': 14.85,\n",
              " 'FDH53': 20.5,\n",
              " 'FDZ13': 7.84,\n",
              " 'FDW28': 18.25,\n",
              " 'FDU46': 10.3,\n",
              " 'NCE43': 12.5,\n",
              " 'NCC42': 15.0,\n",
              " 'FDQ20': 8.325,\n",
              " 'FDA13': 15.85,\n",
              " 'FDZ15': 13.1,\n",
              " 'NCV42': 6.26,\n",
              " 'DRI51': 17.25,\n",
              " 'FDO28': 5.765,\n",
              " 'NCS54': 13.6,\n",
              " 'FDH16': 10.5,\n",
              " 'FDR52': 12.65,\n",
              " 'NCH06': 12.3,\n",
              " 'FDA36': 5.985,\n",
              " 'FDT09': 15.15,\n",
              " 'FDU25': 12.35,\n",
              " 'FDK41': 14.3,\n",
              " 'FDM24': 6.135,\n",
              " 'FDQ45': 9.5,\n",
              " 'DRK59': 8.895,\n",
              " 'FDR21': 19.7,\n",
              " 'FDT44': 16.6,\n",
              " 'FDH57': 10.895,\n",
              " 'NCP42': 8.51,\n",
              " 'FDN09': 14.15,\n",
              " 'FDP32': 6.65,\n",
              " 'FDV57': 15.25,\n",
              " 'FDA40': 16.0,\n",
              " 'NCG42': 19.2,\n",
              " 'NCK54': 12.15,\n",
              " 'FDE16': 8.895,\n",
              " 'FDB15': 10.895,\n",
              " 'FDC40': 16.0,\n",
              " 'FDK24': 9.195,\n",
              " 'FDW31': 11.35,\n",
              " 'NCM07': 9.395,\n",
              " 'FDQ37': 20.75,\n",
              " 'FDK28': 5.695,\n",
              " 'FDR43': 18.2,\n",
              " 'FDL48': 19.35,\n",
              " 'DRL23': 18.35,\n",
              " 'NCX42': 6.36,\n",
              " 'DRD37': 9.8,\n",
              " 'FDD08': 8.3,\n",
              " 'NCN18': 8.895,\n",
              " 'NCI29': 8.6,\n",
              " 'FDU52': 7.56,\n",
              " 'FDN16': 12.6,\n",
              " 'NCM55': 15.6,\n",
              " 'FDR49': 8.71,\n",
              " 'FDA16': 6.695,\n",
              " 'FDO04': 16.6,\n",
              " 'NCL19': 15.35,\n",
              " 'FDR60': 14.3,\n",
              " 'FDG53': 10.0,\n",
              " 'DRG01': 14.8,\n",
              " 'FDI27': 8.71,\n",
              " 'FDD29': 12.15,\n",
              " 'NCR41': 17.85,\n",
              " 'FDW44': 9.5,\n",
              " 'FDU21': 11.8,\n",
              " 'FDI14': 14.1,\n",
              " 'FDN39': 19.35,\n",
              " 'FDT31': 19.75,\n",
              " 'FDJ14': 10.3,\n",
              " 'FDU38': 10.8,\n",
              " 'FDS32': 17.75,\n",
              " 'DRH13': 8.575,\n",
              " 'DRF03': 19.1,\n",
              " 'FDJ20': 20.7,\n",
              " 'FDX22': 6.785,\n",
              " 'DRM11': 6.57,\n",
              " 'FDL25': 6.92,\n",
              " 'FDT08': 13.65,\n",
              " 'FDO22': 13.5,\n",
              " 'NCM41': 16.5,\n",
              " 'FDJ21': 16.7,\n",
              " 'FDC53': 8.68,\n",
              " 'FDQ09': 7.235,\n",
              " 'DRE25': 15.35,\n",
              " 'FDL08': 10.8,\n",
              " 'FDW03': 5.63,\n",
              " 'FDC17': 12.15,\n",
              " 'FDE34': 9.195,\n",
              " 'FDP10': 19.0,\n",
              " 'FDZ22': 9.395,\n",
              " 'NCF31': 9.13,\n",
              " 'FDG14': 9.0,\n",
              " 'NCH30': 17.1,\n",
              " 'FDR36': 6.715,\n",
              " 'NCJ30': 5.82,\n",
              " 'FDR08': 18.7,\n",
              " 'FDU04': 7.93,\n",
              " 'NCQ50': 18.75,\n",
              " 'DRK37': 5.0,\n",
              " 'FDK48': 7.445,\n",
              " 'FDV58': 20.85,\n",
              " 'FDZ52': 19.2,\n",
              " 'NCF42': 17.35,\n",
              " 'FDQ48': 14.3,\n",
              " 'FDR58': 6.675,\n",
              " 'NCE07': 8.18,\n",
              " 'FDK14': 6.98,\n",
              " 'NCQ41': 14.8,\n",
              " 'FDX46': 12.3,\n",
              " 'FDC35': 7.435,\n",
              " 'FDH45': 15.1,\n",
              " 'FDX33': 9.195,\n",
              " 'DRJ35': 10.1,\n",
              " 'FDO19': 17.7,\n",
              " 'FDP13': 8.1,\n",
              " 'FDP24': 20.6,\n",
              " 'NCQ42': 20.35,\n",
              " 'FDU14': 17.75,\n",
              " 'FDT32': 19.0,\n",
              " 'FDK20': 12.6,\n",
              " 'FDU13': 8.355,\n",
              " 'FDE58': 18.5,\n",
              " 'FDZ01': 8.975,\n",
              " 'FDM08': 10.1,\n",
              " 'FDS58': 9.285,\n",
              " 'FDZ26': 11.6,\n",
              " 'FDY51': 12.5,\n",
              " 'FDL34': 16.0,\n",
              " 'DRG39': 14.15,\n",
              " 'NCG43': 20.2,\n",
              " 'FDT01': 13.65,\n",
              " 'DRF01': 5.655,\n",
              " 'FDF53': 20.75,\n",
              " 'FDS45': 5.175,\n",
              " 'FDR20': 20.0,\n",
              " 'FDD38': 16.75,\n",
              " 'DRF15': 18.35,\n",
              " 'FDH32': 12.8,\n",
              " 'NCJ42': 19.75,\n",
              " 'NCL18': 18.85,\n",
              " 'FDW22': 9.695,\n",
              " 'FDE32': 20.7,\n",
              " 'FDJ08': 11.1,\n",
              " 'FDG38': 8.975,\n",
              " 'NCE31': 7.67,\n",
              " 'FDS19': 13.8,\n",
              " 'FDU11': 4.785,\n",
              " 'FDL02': 20.0,\n",
              " 'DRK23': 8.395,\n",
              " 'FDO27': 6.175,\n",
              " 'FDB16': 8.21,\n",
              " 'NCB18': 19.6,\n",
              " 'NCL53': 7.5,\n",
              " 'FDR16': 5.845,\n",
              " 'NCQ05': 11.395,\n",
              " 'FDF44': 7.17,\n",
              " 'FDK15': 10.8,\n",
              " 'FDU32': 8.785,\n",
              " 'FDG09': 20.6,\n",
              " 'FDE39': 7.89,\n",
              " 'FDU56': 16.85,\n",
              " 'NCH55': 16.35,\n",
              " 'NCQ02': 12.6,\n",
              " 'NCU17': 5.32,\n",
              " 'FDV37': 13.0,\n",
              " 'NCI43': 19.85,\n",
              " 'NCQ53': 17.6,\n",
              " 'NCT18': 14.6,\n",
              " 'FDM14': 13.8,\n",
              " 'FDX57': 17.25,\n",
              " 'NCV05': 10.1,\n",
              " 'FDX39': 14.3,\n",
              " 'FDA23': 9.8,\n",
              " 'NCV06': 11.3,\n",
              " 'DRI39': 13.8,\n",
              " 'FDH21': 10.395,\n",
              " 'FDR26': 20.7,\n",
              " 'FDG21': 17.35,\n",
              " 'NCQ38': 16.35,\n",
              " 'FDN20': 19.35,\n",
              " 'NCN29': 15.2,\n",
              " 'FDI28': 14.3,\n",
              " 'FDZ28': 20.0,\n",
              " 'FDU10': 10.1,\n",
              " 'FDS28': 8.18,\n",
              " 'FDJ03': 12.35,\n",
              " 'FDQ51': 16.0,\n",
              " 'NCK06': 5.03,\n",
              " 'FDY09': 15.6,\n",
              " 'FDA10': 20.35,\n",
              " 'FDO34': 17.7,\n",
              " 'FDF40': 20.25,\n",
              " 'FDY02': 8.945,\n",
              " 'FDB59': 18.25,\n",
              " 'FDO15': 16.75,\n",
              " 'FDB38': 19.5,\n",
              " 'FDY26': 20.6,\n",
              " 'DRE13': 6.28,\n",
              " 'FDD50': 18.85,\n",
              " 'FDV56': 16.1,\n",
              " 'NCR29': 7.565,\n",
              " 'FDZ04': 9.31,\n",
              " 'FDU16': 19.25,\n",
              " 'FDV07': 9.5,\n",
              " 'DRC12': 17.85,\n",
              " 'DRK39': 7.02,\n",
              " 'DRB25': 12.3,\n",
              " 'FDK26': 5.46,\n",
              " 'FDM52': 15.1,\n",
              " 'NCO06': 19.25,\n",
              " 'FDK34': 13.35,\n",
              " 'FDO45': 13.15,\n",
              " 'FDF08': 14.3,\n",
              " 'FDH58': 12.3,\n",
              " 'FDS03': 7.825,\n",
              " 'FDE02': 8.71,\n",
              " 'NCZ06': 19.6,\n",
              " 'FDR23': 15.85,\n",
              " 'FDY35': 17.6,\n",
              " 'FDG44': 6.13,\n",
              " 'FDQ23': 6.55,\n",
              " 'FDY22': 16.5,\n",
              " 'NCN41': 17.0,\n",
              " 'FDH20': 16.1,\n",
              " 'FDB09': 16.25,\n",
              " 'FDA09': 13.35,\n",
              " 'FDP03': 5.15,\n",
              " 'FDO13': 7.865,\n",
              " 'DRD49': 9.895,\n",
              " 'NCP50': 17.35,\n",
              " 'DRP35': 18.85,\n",
              " 'FDN23': 6.575,\n",
              " 'FDS44': 12.65,\n",
              " 'NCI54': 15.2,\n",
              " 'FDA21': 13.65,\n",
              " 'FDE35': 7.06,\n",
              " 'DRJ24': 11.8,\n",
              " 'NCO54': 19.5,\n",
              " 'FDV12': 16.7,\n",
              " 'FDQ31': 5.785,\n",
              " 'DRG15': 6.13,\n",
              " 'FDT21': 7.42,\n",
              " 'FDT10': 16.7,\n",
              " 'FDX26': 17.7,\n",
              " 'FDN02': 16.5,\n",
              " 'DRE27': 11.85,\n",
              " 'FDS27': 10.195,\n",
              " 'FDL46': 20.35,\n",
              " 'NCV30': 20.2,\n",
              " 'FDA51': 8.05,\n",
              " 'FDM46': 7.365,\n",
              " 'FDK02': 12.5,\n",
              " 'FDJ57': 7.42,\n",
              " 'NCB31': 6.235,\n",
              " 'FDT50': 6.75,\n",
              " 'NCY41': 16.75,\n",
              " 'FDJ60': 19.35,\n",
              " 'FDS21': 19.85,\n",
              " 'FDS47': 16.75,\n",
              " 'DRM48': 15.2,\n",
              " 'FDW46': 13.0,\n",
              " 'FDW27': 5.86,\n",
              " 'FDU40': 20.85,\n",
              " 'FDX35': 5.035,\n",
              " 'FDD51': 11.15,\n",
              " 'FDY27': 6.38,\n",
              " 'NCN06': 8.39,\n",
              " 'FDR57': 5.675,\n",
              " 'FDR19': 13.5,\n",
              " 'FDJ33': 8.895,\n",
              " 'FDA52': 16.2,\n",
              " 'FDR27': 15.1,\n",
              " 'NCK42': 7.475,\n",
              " 'NCI31': 20.0,\n",
              " 'FDX16': 17.85,\n",
              " 'NCA05': 20.75,\n",
              " 'DRG51': 12.1,\n",
              " 'NCR30': 20.6,\n",
              " 'DRM37': 15.35,\n",
              " 'FDN56': 5.46,\n",
              " 'FDC09': 15.5,\n",
              " 'NCZ41': 19.85,\n",
              " 'FDP19': 11.5,\n",
              " 'DRL11': 10.5,\n",
              " 'FDO36': 19.7,\n",
              " 'FDF21': 10.3,\n",
              " 'FDS51': 13.35,\n",
              " 'FDE45': 12.1,\n",
              " 'FDX50': 20.1,\n",
              " 'FDQ21': 21.25,\n",
              " 'DRL37': 15.5,\n",
              " 'FDZ39': 19.7,\n",
              " 'FDH10': 21.0,\n",
              " 'NCO18': 13.15,\n",
              " 'FDD05': 19.35,\n",
              " 'FDZ23': 17.75,\n",
              " 'FDX27': 20.7,\n",
              " 'FDR14': 11.65,\n",
              " 'FDO01': 21.1,\n",
              " 'FDZ56': 16.25,\n",
              " 'NCL55': 12.15,\n",
              " 'FDD59': 10.5,\n",
              " 'DRF23': 4.61,\n",
              " 'FDT49': 7.0,\n",
              " 'FDH22': 6.405,\n",
              " 'FDT34': 9.3,\n",
              " 'FDB39': 11.6,\n",
              " 'FDQ22': 16.75,\n",
              " 'NCN43': 12.15,\n",
              " 'FDG57': 14.7,\n",
              " 'NCC43': 7.39,\n",
              " 'FDP01': 20.75,\n",
              " 'FDF52': 9.3,\n",
              " 'FDZ33': 10.195,\n",
              " 'FDW56': 7.68,\n",
              " 'FDC26': 10.195,\n",
              " 'FDF34': 9.3,\n",
              " 'FDD04': 16.0,\n",
              " 'NCJ31': 19.2,\n",
              " 'FDO57': 20.75,\n",
              " 'NCY05': 13.5,\n",
              " 'DRK11': 8.21,\n",
              " 'NCL30': 18.1,\n",
              " 'DRJ39': 20.25,\n",
              " 'FDZ44': 8.185,\n",
              " 'FDV46': 18.2,\n",
              " 'DRG03': 14.5,\n",
              " 'FDU37': 9.5,\n",
              " 'FDI57': 19.85,\n",
              " 'FDM45': 8.655,\n",
              " 'FDB26': 14.0,\n",
              " 'NCN26': 10.85,\n",
              " 'FDO38': 17.25,\n",
              " 'FDG31': 12.15,\n",
              " 'FDI45': 13.1,\n",
              " 'FDE17': 20.1,\n",
              " 'NCG06': 16.35,\n",
              " 'NCP29': 8.42,\n",
              " 'FDM02': 12.5,\n",
              " 'FDR46': 16.85,\n",
              " 'FDQ49': 20.2,\n",
              " 'FDS16': 15.15,\n",
              " 'FDU15': 13.65,\n",
              " 'FDO09': 13.5,\n",
              " 'FDB40': 17.5,\n",
              " 'DRN11': 7.85,\n",
              " 'FDE22': 9.695,\n",
              " 'FDF04': 17.5,\n",
              " 'FDE41': 9.195,\n",
              " 'NCD54': 21.1,\n",
              " 'FDN34': 15.6,\n",
              " 'FDL39': 16.1,\n",
              " 'FDH33': 12.85,\n",
              " 'FDA34': 11.5,\n",
              " 'DRH23': 14.65,\n",
              " 'FDD21': 10.3,\n",
              " 'FDK60': 16.5,\n",
              " 'FDY12': 9.8,\n",
              " 'FDP11': 15.85,\n",
              " 'NCF54': 18.0,\n",
              " 'FDV43': 16.0,\n",
              " 'DRE12': 4.59,\n",
              " 'NCW42': 18.2,\n",
              " 'FDI41': 18.5,\n",
              " 'FDV22': 14.85,\n",
              " 'FDQ46': 7.51,\n",
              " 'FDC44': 15.6,\n",
              " 'FDB22': 8.02,\n",
              " 'FDV23': 11.0,\n",
              " 'FDL33': 7.235,\n",
              " 'FDW48': 18.0,\n",
              " 'NCM06': 7.475,\n",
              " 'FDT46': 11.35,\n",
              " 'FDT38': 18.7,\n",
              " 'FDO40': 17.1,\n",
              " 'FDP12': 9.8,\n",
              " 'FDG16': 15.25,\n",
              " 'FDY11': 6.71,\n",
              " 'FDL38': 13.8,\n",
              " 'FDY60': 10.5,\n",
              " 'FDW40': 14.0,\n",
              " 'FDY08': 9.395,\n",
              " 'NCM42': 6.13,\n",
              " 'NCD07': 9.1,\n",
              " 'FDD09': 13.5,\n",
              " 'DRH59': 10.8,\n",
              " 'DRN36': 15.2,\n",
              " 'DRA24': 19.35,\n",
              " 'FDG34': 11.5,\n",
              " 'FDK22': 9.8,\n",
              " 'FDO33': 14.75,\n",
              " 'FDS10': 19.2,\n",
              " 'FDU34': 18.25,\n",
              " 'FDA26': 7.855,\n",
              " 'FDP38': 10.1,\n",
              " 'FDA50': 16.25,\n",
              " 'FDY10': 17.6,\n",
              " 'FDT19': 7.59,\n",
              " 'NCV54': 11.1,\n",
              " 'FDA28': 16.1,\n",
              " 'FDB05': 5.155,\n",
              " 'FDY52': 6.365,\n",
              " 'FDR48': 11.65,\n",
              " 'FDY15': 18.25,\n",
              " 'FDM51': 11.8,\n",
              " 'FDW09': 13.65,\n",
              " 'FDV44': 8.365,\n",
              " 'FDZ47': 20.7,\n",
              " 'NCP43': 17.75,\n",
              " 'FDL26': 18.0,\n",
              " 'DRM35': 9.695,\n",
              " 'DRD15': 10.6,\n",
              " 'FDV04': 7.825,\n",
              " 'NCN05': 8.235,\n",
              " 'FDJ02': 17.2,\n",
              " 'NCK17': 11.0,\n",
              " 'FDO58': 19.6,\n",
              " 'FDG33': 5.365,\n",
              " 'NCZ05': 8.485,\n",
              " 'NCP54': 15.35,\n",
              " 'FDV01': 19.2,\n",
              " 'FDF57': 14.5,\n",
              " 'FDA02': 14.0,\n",
              " 'DRJ37': 10.8,\n",
              " 'NCP55': 14.65,\n",
              " 'FDK38': 6.65,\n",
              " 'NCZ30': 6.59,\n",
              " 'DRY23': 9.395,\n",
              " 'NCG19': 20.25,\n",
              " 'FDQ01': 19.7,\n",
              " 'FDL44': 18.25,\n",
              " 'DRM23': 16.6,\n",
              " 'NCE18': 10.0,\n",
              " 'DRZ24': 7.535,\n",
              " 'FDT48': 4.92,\n",
              " 'DRG11': 6.385,\n",
              " 'FDP60': 17.35,\n",
              " 'FDE05': 10.895,\n",
              " 'FDC32': 18.35,\n",
              " 'FDJ22': 18.75,\n",
              " 'NCH18': 9.3,\n",
              " 'DRC13': 8.26,\n",
              " 'FDG47': 12.8,\n",
              " 'NCT05': 10.895,\n",
              " 'FDN50': 16.85,\n",
              " 'FDU60': 20.0,\n",
              " 'FDX02': 16.0,\n",
              " 'DRF27': 8.93,\n",
              " 'FDQ59': 9.8,\n",
              " 'NCZ53': 9.6,\n",
              " 'FDD34': 7.945,\n",
              " 'FDY43': 14.85,\n",
              " 'FDG46': 8.63,\n",
              " 'FDN44': 13.15,\n",
              " 'FDD32': 17.7,\n",
              " 'FDA56': 9.21,\n",
              " 'FDT13': 14.85,\n",
              " 'NCY29': 13.65,\n",
              " 'NCA42': 6.965,\n",
              " 'FDG26': 18.85,\n",
              " 'FDH24': 20.7,\n",
              " 'FDT52': 9.695,\n",
              " 'FDT04': 17.25,\n",
              " 'NCL54': 12.6,\n",
              " 'FDW50': 13.1,\n",
              " 'FDQ32': 17.85,\n",
              " 'FDE29': 8.905,\n",
              " 'FDB37': 20.25,\n",
              " 'FDN46': 7.21,\n",
              " 'FDV28': 16.1,\n",
              " 'FDV40': 17.35,\n",
              " 'FDZ57': 10.0,\n",
              " 'FDY46': 18.6,\n",
              " 'FDX45': 16.75,\n",
              " 'FDB33': 17.75,\n",
              " 'FDT58': 9.0,\n",
              " 'NCL31': 7.39,\n",
              " 'FDJ44': 12.3,\n",
              " 'FDS50': 17.0,\n",
              " 'FDA49': 19.7,\n",
              " 'FDO50': 16.25,\n",
              " 'DRK13': 11.8,\n",
              " 'FDI20': 19.1,\n",
              " 'FDM36': 11.65,\n",
              " 'FDN12': 15.6,\n",
              " 'FDG17': 6.865,\n",
              " 'FDM32': 20.5,\n",
              " 'FDC51': 10.895,\n",
              " 'FDF16': 7.3,\n",
              " 'FDI46': 9.5,\n",
              " 'FDZ21': 17.6,\n",
              " 'DRF25': 9.0,\n",
              " 'FDH05': 14.35,\n",
              " 'FDD52': 18.25,\n",
              " 'FDR55': 12.15,\n",
              " 'FDP04': 15.35,\n",
              " 'FDQ14': 9.27,\n",
              " 'DRN59': 15.0,\n",
              " 'NCR06': 12.5,\n",
              " 'FDB58': 10.5,\n",
              " 'NCV41': 14.35,\n",
              " 'FDW19': 12.35,\n",
              " 'FDO56': 10.195,\n",
              " 'FDN10': 11.5,\n",
              " 'FDY20': 12.5,\n",
              " 'FDV34': 10.695,\n",
              " 'NCX18': 14.15,\n",
              " 'FDT12': 6.215,\n",
              " 'FDD57': 18.1,\n",
              " 'FDK45': 11.65,\n",
              " 'FDZ48': 17.75,\n",
              " 'FDZ31': 15.35,\n",
              " 'FDL21': 15.85,\n",
              " 'FDC39': 7.405,\n",
              " 'FDP45': 15.7,\n",
              " 'FDC56': 7.72,\n",
              " 'FDE59': 12.15,\n",
              " 'FDB04': 11.35,\n",
              " 'NCK05': 20.1,\n",
              " 'FDR03': 15.7,\n",
              " 'FDC59': 16.7,\n",
              " 'DRB13': 6.115,\n",
              " 'NCE54': 20.7,\n",
              " 'FDC10': 9.8,\n",
              " 'NCL29': 9.695,\n",
              " 'FDM57': 11.65,\n",
              " 'FDZ36': 6.035,\n",
              " 'FDX10': 6.385,\n",
              " 'FDO46': 9.6,\n",
              " 'FDD16': 20.5,\n",
              " 'FDY44': 14.15,\n",
              " 'DRH51': 17.6,\n",
              " 'FDI50': 8.42,\n",
              " 'FDB60': 9.3,\n",
              " 'FDA20': 6.78,\n",
              " 'DRF37': 17.25,\n",
              " 'FDJ26': 15.3,\n",
              " 'FDZ25': 15.7,\n",
              " 'FDZ58': 17.85,\n",
              " 'NCG18': 15.3,\n",
              " 'FDH50': 15.0,\n",
              " 'DRO35': 13.85,\n",
              " 'FDP52': 18.7,\n",
              " 'FDC05': 13.1,\n",
              " 'NCA41': 16.75,\n",
              " 'FDX56': 17.1,\n",
              " 'NCP02': 7.105,\n",
              " 'FDZ49': 11.0,\n",
              " 'NCJ17': 7.68,\n",
              " 'FDP48': 7.52,\n",
              " 'FDI53': 8.895,\n",
              " 'FDW02': 4.805,\n",
              " 'FDO48': 15.0,\n",
              " 'NCR53': 12.15,\n",
              " 'FDF56': 16.7,\n",
              " 'FDL57': 15.1,\n",
              " 'FDV52': 20.7,\n",
              " 'NCS41': 12.85,\n",
              " 'FDF12': 8.235,\n",
              " 'FDM13': 6.425,\n",
              " 'NCS42': 8.6,\n",
              " 'FDD47': 7.6,\n",
              " 'DRE03': 19.6,\n",
              " 'FDE20': 11.35,\n",
              " 'FDI33': 16.5,\n",
              " 'NCT06': 17.1,\n",
              " 'FDD10': 20.6,\n",
              " 'FDK52': 18.25,\n",
              " 'FDJ36': 14.5,\n",
              " 'NCK18': 9.6,\n",
              " 'FDB08': 6.055,\n",
              " 'FDX43': 5.655,\n",
              " 'FDU58': 6.61,\n",
              " 'NCT29': 12.6,\n",
              " 'NCB43': 20.2,\n",
              " 'FDR37': 16.5,\n",
              " 'FDG56': 13.3,\n",
              " 'FDL13': 13.85,\n",
              " 'FDQ03': 15.0,\n",
              " 'NCC55': 10.695,\n",
              " 'FDA25': 16.5,\n",
              " 'FDV33': 9.6,\n",
              " 'FDX47': 6.55,\n",
              " 'FDB02': 9.695,\n",
              " 'FDI56': 7.325,\n",
              " 'FDQ08': 15.7,\n",
              " 'DRJ49': 6.865,\n",
              " 'FDP26': 7.785,\n",
              " 'FDO32': 6.36,\n",
              " 'FDR34': 17.0,\n",
              " 'FDU59': 5.78,\n",
              " 'FDN31': 11.5,\n",
              " 'FDC03': 8.575,\n",
              " 'FDL14': 8.115,\n",
              " 'FDP39': 12.65,\n",
              " 'FDT11': 5.94,\n",
              " 'FDU48': 18.85,\n",
              " 'NCP06': 20.7,\n",
              " 'FDT45': 15.85,\n",
              " 'FDE56': 17.25,\n",
              " 'FDZ34': 6.695,\n",
              " 'NCM54': 17.7,\n",
              " 'FDV24': 5.635,\n",
              " 'FDD46': 6.035,\n",
              " 'FDQ39': 14.8,\n",
              " 'FDE11': 17.7,\n",
              " 'NCU54': 8.88,\n",
              " 'FDO60': 20.0,\n",
              " 'NCS06': 7.935,\n",
              " 'FDQ55': 13.65,\n",
              " 'NCO02': 11.15,\n",
              " 'FDB12': 11.15,\n",
              " 'FDT40': 5.985,\n",
              " 'NCO05': 7.27,\n",
              " 'FDR32': 6.78,\n",
              " 'FDM04': 9.195,\n",
              " 'FDH08': 7.51,\n",
              " 'FDZ08': 12.5,\n",
              " 'FDU03': 18.7,\n",
              " 'FDV08': 7.35,\n",
              " 'FDY49': 17.2,\n",
              " 'DRK47': 7.905,\n",
              " 'NCE06': 5.825,\n",
              " 'DRI47': 14.7,\n",
              " 'FDR35': 12.5,\n",
              " 'FDK03': 12.6,\n",
              " 'FDN48': 13.35,\n",
              " 'FDZ59': 6.63,\n",
              " 'FDL09': 19.6,\n",
              " 'FDL03': 19.25,\n",
              " 'NCG07': 12.3,\n",
              " 'FDP22': 14.65,\n",
              " 'FDL45': 15.6,\n",
              " 'FDC45': 17.0,\n",
              " 'FDI40': 11.5,\n",
              " 'FDQ11': 5.695,\n",
              " 'FDQ52': 17.0,\n",
              " 'FDJ27': 17.7,\n",
              " 'NCM18': 13.0,\n",
              " 'FDT26': 18.85,\n",
              " 'DRD60': 15.7,\n",
              " 'NCH07': 13.15,\n",
              " 'FDP44': 16.5,\n",
              " 'FDI48': 11.85,\n",
              " 'NCF06': 6.235,\n",
              " 'FDT24': 12.35,\n",
              " 'FDK08': 9.195,\n",
              " 'FDS11': 7.05,\n",
              " 'DRE15': 13.35,\n",
              " 'FDX21': 7.05,\n",
              " 'NCI42': 18.75,\n",
              " 'FDX37': 16.2,\n",
              " 'FDX14': 13.1,\n",
              " 'FDM09': 11.15,\n",
              " 'NCW54': 7.5,\n",
              " 'FDF47': 20.85,\n",
              " 'FDW12': 8.315,\n",
              " 'FDW24': 6.8,\n",
              " 'DRD01': 12.1,\n",
              " 'FDN25': 7.895,\n",
              " 'FDP20': 19.85,\n",
              " 'FDR45': 10.8,\n",
              " 'FDZ45': 14.1,\n",
              " 'FDB23': 19.2,\n",
              " 'FDC41': 15.6,\n",
              " 'NCM26': 20.5,\n",
              " 'FDW35': 10.6,\n",
              " 'FDK40': 7.035,\n",
              " 'NCL42': 18.85,\n",
              " 'FDC33': 8.96,\n",
              " 'FDY04': 17.7,\n",
              " 'NCG30': 20.2,\n",
              " 'NCH29': 5.51,\n",
              " 'FDV20': 20.2,\n",
              " 'NCM29': 11.5,\n",
              " 'FDD53': 16.2,\n",
              " 'FDI44': 16.1,\n",
              " 'FDU20': 19.35,\n",
              " ...}"
            ]
          },
          "metadata": {},
          "execution_count": 12
        }
      ]
    },
    {
      "cell_type": "code",
      "source": [
        "df.Item_Weight = df.Item_Identifier.map(d)"
      ],
      "metadata": {
        "id": "sj-rdeuj7iSk"
      },
      "execution_count": 13,
      "outputs": []
    },
    {
      "cell_type": "code",
      "source": [
        "df.isnull().sum()"
      ],
      "metadata": {
        "colab": {
          "base_uri": "https://localhost:8080/"
        },
        "id": "35_yNUov7rus",
        "outputId": "55f30d46-dacb-4728-a368-8158703bec59"
      },
      "execution_count": 14,
      "outputs": [
        {
          "output_type": "execute_result",
          "data": {
            "text/plain": [
              "Item_Identifier              0\n",
              "Item_Weight                  4\n",
              "Item_Fat_Content             0\n",
              "Item_Visibility              0\n",
              "Item_Type                    0\n",
              "Item_MRP                     0\n",
              "Outlet_Identifier            0\n",
              "Outlet_Establishment_Year    0\n",
              "Outlet_Size                  0\n",
              "Outlet_Location_Type         0\n",
              "Outlet_Type                  0\n",
              "Item_Outlet_Sales            0\n",
              "dtype: int64"
            ]
          },
          "metadata": {},
          "execution_count": 14
        }
      ]
    },
    {
      "cell_type": "markdown",
      "source": [
        "Since there are Item identifiers that had no specific item weight, fill the null values with the mean of all item weights"
      ],
      "metadata": {
        "id": "eUVkdmfB9QkV"
      }
    },
    {
      "cell_type": "code",
      "source": [
        "df.Item_Weight.fillna(df.Item_Weight.mean(),inplace=True)"
      ],
      "metadata": {
        "id": "y3TqJyoS7qTf"
      },
      "execution_count": 15,
      "outputs": []
    },
    {
      "cell_type": "markdown",
      "source": [
        "Confirm that there are no missing values"
      ],
      "metadata": {
        "id": "qnuGAPQM9I1N"
      }
    },
    {
      "cell_type": "code",
      "source": [
        "df.isnull().sum()"
      ],
      "metadata": {
        "colab": {
          "base_uri": "https://localhost:8080/"
        },
        "id": "0Eu9CQ4p7vp4",
        "outputId": "cf926a8b-9e0f-4254-be7d-3fdfb60ec82f"
      },
      "execution_count": 16,
      "outputs": [
        {
          "output_type": "execute_result",
          "data": {
            "text/plain": [
              "Item_Identifier              0\n",
              "Item_Weight                  0\n",
              "Item_Fat_Content             0\n",
              "Item_Visibility              0\n",
              "Item_Type                    0\n",
              "Item_MRP                     0\n",
              "Outlet_Identifier            0\n",
              "Outlet_Establishment_Year    0\n",
              "Outlet_Size                  0\n",
              "Outlet_Location_Type         0\n",
              "Outlet_Type                  0\n",
              "Item_Outlet_Sales            0\n",
              "dtype: int64"
            ]
          },
          "metadata": {},
          "execution_count": 16
        }
      ]
    },
    {
      "cell_type": "code",
      "source": [
        "df.shape"
      ],
      "metadata": {
        "colab": {
          "base_uri": "https://localhost:8080/"
        },
        "id": "1qWSYjRu7wwV",
        "outputId": "dd4c58b8-7c1c-411e-ff49-9e945e2a447d"
      },
      "execution_count": 17,
      "outputs": [
        {
          "output_type": "execute_result",
          "data": {
            "text/plain": [
              "(8523, 12)"
            ]
          },
          "metadata": {},
          "execution_count": 17
        }
      ]
    },
    {
      "cell_type": "markdown",
      "source": [
        "Find and fix any inconsistent categories of data"
      ],
      "metadata": {
        "id": "X3HmNnYN9qS_"
      }
    },
    {
      "cell_type": "code",
      "source": [
        "df['Item_Identifier'].value_counts(dropna=False)"
      ],
      "metadata": {
        "colab": {
          "base_uri": "https://localhost:8080/"
        },
        "id": "bELYbBfD9ucS",
        "outputId": "af16f470-d22e-4111-99b8-f64eadd0b7e5"
      },
      "execution_count": 18,
      "outputs": [
        {
          "output_type": "execute_result",
          "data": {
            "text/plain": [
              "FDW13    10\n",
              "FDG33    10\n",
              "NCY18     9\n",
              "FDD38     9\n",
              "DRE49     9\n",
              "         ..\n",
              "FDY43     1\n",
              "FDQ60     1\n",
              "FDO33     1\n",
              "DRF48     1\n",
              "FDC23     1\n",
              "Name: Item_Identifier, Length: 1559, dtype: int64"
            ]
          },
          "metadata": {},
          "execution_count": 18
        }
      ]
    },
    {
      "cell_type": "code",
      "source": [
        "df['Item_Weight'].value_counts(dropna=False)"
      ],
      "metadata": {
        "colab": {
          "base_uri": "https://localhost:8080/"
        },
        "id": "WuR1xeaC9uZ4",
        "outputId": "71de68a0-d1e6-48f5-ce7c-12ac61b59cdb"
      },
      "execution_count": 19,
      "outputs": [
        {
          "output_type": "execute_result",
          "data": {
            "text/plain": [
              "12.150    105\n",
              "17.600    102\n",
              "11.800     90\n",
              "13.650     89\n",
              "15.100     86\n",
              "         ... \n",
              "5.675       2\n",
              "8.800       2\n",
              "6.405       2\n",
              "6.775       2\n",
              "5.210       2\n",
              "Name: Item_Weight, Length: 416, dtype: int64"
            ]
          },
          "metadata": {},
          "execution_count": 19
        }
      ]
    },
    {
      "cell_type": "code",
      "source": [
        "df['Item_Fat_Content'].value_counts(dropna=False)"
      ],
      "metadata": {
        "colab": {
          "base_uri": "https://localhost:8080/"
        },
        "id": "V4SNK-sG9uXr",
        "outputId": "b1c20506-8887-4836-c55e-194f62a6e833"
      },
      "execution_count": 20,
      "outputs": [
        {
          "output_type": "execute_result",
          "data": {
            "text/plain": [
              "Low Fat    5089\n",
              "Regular    2889\n",
              "LF          316\n",
              "reg         117\n",
              "low fat     112\n",
              "Name: Item_Fat_Content, dtype: int64"
            ]
          },
          "metadata": {},
          "execution_count": 20
        }
      ]
    },
    {
      "cell_type": "code",
      "source": [
        "df['Item_Fat_Content'] = df['Item_Fat_Content'].replace(['LF', 'low fat'],'Low Fat')\n",
        "df['Item_Fat_Content'] = df['Item_Fat_Content'].replace(['reg'],'Regular')"
      ],
      "metadata": {
        "id": "DrC73BA2-Kvz"
      },
      "execution_count": 21,
      "outputs": []
    },
    {
      "cell_type": "code",
      "source": [
        "df['Item_Fat_Content'].value_counts(dropna=False)"
      ],
      "metadata": {
        "colab": {
          "base_uri": "https://localhost:8080/"
        },
        "id": "W3SFKsUp-d5W",
        "outputId": "9dc195fc-d3de-4638-95c8-7d2c11d3d1d7"
      },
      "execution_count": 22,
      "outputs": [
        {
          "output_type": "execute_result",
          "data": {
            "text/plain": [
              "Low Fat    5517\n",
              "Regular    3006\n",
              "Name: Item_Fat_Content, dtype: int64"
            ]
          },
          "metadata": {},
          "execution_count": 22
        }
      ]
    },
    {
      "cell_type": "code",
      "source": [
        "df['Item_Visibility'].value_counts(dropna=False)"
      ],
      "metadata": {
        "colab": {
          "base_uri": "https://localhost:8080/"
        },
        "id": "ZcIPuJfh9uVa",
        "outputId": "d5d2226a-9353-4906-9d25-75e8352d1305"
      },
      "execution_count": 23,
      "outputs": [
        {
          "output_type": "execute_result",
          "data": {
            "text/plain": [
              "0.000000    526\n",
              "0.076975      3\n",
              "0.162462      2\n",
              "0.076841      2\n",
              "0.073562      2\n",
              "           ... \n",
              "0.013957      1\n",
              "0.110460      1\n",
              "0.124646      1\n",
              "0.054142      1\n",
              "0.044878      1\n",
              "Name: Item_Visibility, Length: 7880, dtype: int64"
            ]
          },
          "metadata": {},
          "execution_count": 23
        }
      ]
    },
    {
      "cell_type": "code",
      "source": [
        "df['Item_Type'].value_counts(dropna=False)"
      ],
      "metadata": {
        "colab": {
          "base_uri": "https://localhost:8080/"
        },
        "id": "ecAuTD9a9uTJ",
        "outputId": "5db32ea0-751c-487d-b56b-9c328d3f3ba5"
      },
      "execution_count": 24,
      "outputs": [
        {
          "output_type": "execute_result",
          "data": {
            "text/plain": [
              "Fruits and Vegetables    1232\n",
              "Snack Foods              1200\n",
              "Household                 910\n",
              "Frozen Foods              856\n",
              "Dairy                     682\n",
              "Canned                    649\n",
              "Baking Goods              648\n",
              "Health and Hygiene        520\n",
              "Soft Drinks               445\n",
              "Meat                      425\n",
              "Breads                    251\n",
              "Hard Drinks               214\n",
              "Others                    169\n",
              "Starchy Foods             148\n",
              "Breakfast                 110\n",
              "Seafood                    64\n",
              "Name: Item_Type, dtype: int64"
            ]
          },
          "metadata": {},
          "execution_count": 24
        }
      ]
    },
    {
      "cell_type": "code",
      "source": [
        "df['Item_MRP'].value_counts(dropna=False)"
      ],
      "metadata": {
        "colab": {
          "base_uri": "https://localhost:8080/"
        },
        "id": "hxwdkLee9uQr",
        "outputId": "f1a00b30-f156-4bd6-d25b-9cda338ee8c7"
      },
      "execution_count": 25,
      "outputs": [
        {
          "output_type": "execute_result",
          "data": {
            "text/plain": [
              "172.0422    7\n",
              "170.5422    6\n",
              "196.5084    6\n",
              "188.1872    6\n",
              "142.0154    6\n",
              "           ..\n",
              "97.3384     1\n",
              "83.1934     1\n",
              "96.6752     1\n",
              "152.6682    1\n",
              "75.4670     1\n",
              "Name: Item_MRP, Length: 5938, dtype: int64"
            ]
          },
          "metadata": {},
          "execution_count": 25
        }
      ]
    },
    {
      "cell_type": "code",
      "source": [
        "df['Outlet_Identifier'].value_counts(dropna=False)"
      ],
      "metadata": {
        "colab": {
          "base_uri": "https://localhost:8080/"
        },
        "id": "-l36n7t-9uOf",
        "outputId": "e0e0187e-65ef-4419-c115-a2705340dff1"
      },
      "execution_count": 26,
      "outputs": [
        {
          "output_type": "execute_result",
          "data": {
            "text/plain": [
              "OUT027    935\n",
              "OUT013    932\n",
              "OUT049    930\n",
              "OUT046    930\n",
              "OUT035    930\n",
              "OUT045    929\n",
              "OUT018    928\n",
              "OUT017    926\n",
              "OUT010    555\n",
              "OUT019    528\n",
              "Name: Outlet_Identifier, dtype: int64"
            ]
          },
          "metadata": {},
          "execution_count": 26
        }
      ]
    },
    {
      "cell_type": "code",
      "source": [
        "df['Outlet_Establishment_Year'].value_counts(dropna=False)"
      ],
      "metadata": {
        "colab": {
          "base_uri": "https://localhost:8080/"
        },
        "id": "Kf562qUm9uKt",
        "outputId": "65ef5a8f-734f-4f7c-d60c-332912307003"
      },
      "execution_count": 27,
      "outputs": [
        {
          "output_type": "execute_result",
          "data": {
            "text/plain": [
              "1985    1463\n",
              "1987     932\n",
              "1999     930\n",
              "1997     930\n",
              "2004     930\n",
              "2002     929\n",
              "2009     928\n",
              "2007     926\n",
              "1998     555\n",
              "Name: Outlet_Establishment_Year, dtype: int64"
            ]
          },
          "metadata": {},
          "execution_count": 27
        }
      ]
    },
    {
      "cell_type": "code",
      "source": [
        "df['Outlet_Size'].value_counts(dropna=False)"
      ],
      "metadata": {
        "colab": {
          "base_uri": "https://localhost:8080/"
        },
        "id": "LsVpvAVs9uIT",
        "outputId": "d69bc1a7-70b6-46bc-a7d5-bb624ab7cf95"
      },
      "execution_count": 28,
      "outputs": [
        {
          "output_type": "execute_result",
          "data": {
            "text/plain": [
              "Medium    5203\n",
              "Small     2388\n",
              "High       932\n",
              "Name: Outlet_Size, dtype: int64"
            ]
          },
          "metadata": {},
          "execution_count": 28
        }
      ]
    },
    {
      "cell_type": "code",
      "source": [
        "df['Outlet_Location_Type'].value_counts(dropna=False)"
      ],
      "metadata": {
        "colab": {
          "base_uri": "https://localhost:8080/"
        },
        "id": "S8c2fHLK9uGB",
        "outputId": "8b5dd118-da7e-49cb-a344-8db6c0dfd86b"
      },
      "execution_count": 29,
      "outputs": [
        {
          "output_type": "execute_result",
          "data": {
            "text/plain": [
              "Tier 3    3350\n",
              "Tier 2    2785\n",
              "Tier 1    2388\n",
              "Name: Outlet_Location_Type, dtype: int64"
            ]
          },
          "metadata": {},
          "execution_count": 29
        }
      ]
    },
    {
      "cell_type": "code",
      "source": [
        "df['Outlet_Type'].value_counts(dropna=False)"
      ],
      "metadata": {
        "colab": {
          "base_uri": "https://localhost:8080/"
        },
        "id": "8eNNJ-o39uD1",
        "outputId": "50c990ad-5788-41bc-bebe-198fc6999991"
      },
      "execution_count": 30,
      "outputs": [
        {
          "output_type": "execute_result",
          "data": {
            "text/plain": [
              "Supermarket Type1    5577\n",
              "Grocery Store        1083\n",
              "Supermarket Type3     935\n",
              "Supermarket Type2     928\n",
              "Name: Outlet_Type, dtype: int64"
            ]
          },
          "metadata": {},
          "execution_count": 30
        }
      ]
    },
    {
      "cell_type": "code",
      "source": [
        "df['Item_Outlet_Sales'].value_counts(dropna=False)"
      ],
      "metadata": {
        "colab": {
          "base_uri": "https://localhost:8080/"
        },
        "id": "glR1_xdn9uBd",
        "outputId": "dfaf9cbf-b0b1-4364-9467-5223e044cce3"
      },
      "execution_count": 31,
      "outputs": [
        {
          "output_type": "execute_result",
          "data": {
            "text/plain": [
              "958.7520     17\n",
              "1342.2528    16\n",
              "703.0848     15\n",
              "1845.5976    15\n",
              "1278.3360    14\n",
              "             ..\n",
              "4124.6310     1\n",
              "6622.7126     1\n",
              "1614.5650     1\n",
              "5602.7070     1\n",
              "2778.3834     1\n",
              "Name: Item_Outlet_Sales, Length: 3493, dtype: int64"
            ]
          },
          "metadata": {},
          "execution_count": 31
        }
      ]
    },
    {
      "cell_type": "markdown",
      "source": [
        "Obtain the summary statistics of each of the numerical columns"
      ],
      "metadata": {
        "id": "m-rFfg-y9Fpv"
      }
    },
    {
      "cell_type": "code",
      "source": [
        "df['Item_Weight'].describe()"
      ],
      "metadata": {
        "colab": {
          "base_uri": "https://localhost:8080/"
        },
        "id": "_7g4kP3M8ofu",
        "outputId": "11cb8ca4-c48b-4331-fe24-f6d5068068e0"
      },
      "execution_count": 32,
      "outputs": [
        {
          "output_type": "execute_result",
          "data": {
            "text/plain": [
              "count    8523.000000\n",
              "mean       12.875420\n",
              "std         4.645008\n",
              "min         4.555000\n",
              "25%         8.785000\n",
              "50%        12.650000\n",
              "75%        16.850000\n",
              "max        21.350000\n",
              "Name: Item_Weight, dtype: float64"
            ]
          },
          "metadata": {},
          "execution_count": 32
        }
      ]
    },
    {
      "cell_type": "code",
      "source": [
        "df['Item_Visibility'].describe()"
      ],
      "metadata": {
        "colab": {
          "base_uri": "https://localhost:8080/"
        },
        "id": "bxlhqAxI-5gQ",
        "outputId": "db525bc5-f557-40a4-924d-ec5d928caf06"
      },
      "execution_count": 33,
      "outputs": [
        {
          "output_type": "execute_result",
          "data": {
            "text/plain": [
              "count    8523.000000\n",
              "mean        0.066132\n",
              "std         0.051598\n",
              "min         0.000000\n",
              "25%         0.026989\n",
              "50%         0.053931\n",
              "75%         0.094585\n",
              "max         0.328391\n",
              "Name: Item_Visibility, dtype: float64"
            ]
          },
          "metadata": {},
          "execution_count": 33
        }
      ]
    },
    {
      "cell_type": "code",
      "source": [
        "df['Item_MRP'].describe()"
      ],
      "metadata": {
        "colab": {
          "base_uri": "https://localhost:8080/"
        },
        "id": "vqdL6wl5-6y0",
        "outputId": "f3024b66-fe1d-4cf5-aecc-0c87bcc397ce"
      },
      "execution_count": 34,
      "outputs": [
        {
          "output_type": "execute_result",
          "data": {
            "text/plain": [
              "count    8523.000000\n",
              "mean      140.992782\n",
              "std        62.275067\n",
              "min        31.290000\n",
              "25%        93.826500\n",
              "50%       143.012800\n",
              "75%       185.643700\n",
              "max       266.888400\n",
              "Name: Item_MRP, dtype: float64"
            ]
          },
          "metadata": {},
          "execution_count": 34
        }
      ]
    },
    {
      "cell_type": "code",
      "source": [
        "df['Item_Outlet_Sales'].describe()"
      ],
      "metadata": {
        "colab": {
          "base_uri": "https://localhost:8080/"
        },
        "id": "majvTgGH-6wp",
        "outputId": "ee3472c4-c423-4e1b-b2f9-2a1fb41725e3"
      },
      "execution_count": 35,
      "outputs": [
        {
          "output_type": "execute_result",
          "data": {
            "text/plain": [
              "count     8523.000000\n",
              "mean      2181.288914\n",
              "std       1706.499616\n",
              "min         33.290000\n",
              "25%        834.247400\n",
              "50%       1794.331000\n",
              "75%       3101.296400\n",
              "max      13086.964800\n",
              "Name: Item_Outlet_Sales, dtype: float64"
            ]
          },
          "metadata": {},
          "execution_count": 35
        }
      ]
    },
    {
      "cell_type": "markdown",
      "source": [
        "#Project 1 - Part 3"
      ],
      "metadata": {
        "id": "U1bk3TnwAaOc"
      }
    },
    {
      "cell_type": "code",
      "source": [
        "df.columns"
      ],
      "metadata": {
        "colab": {
          "base_uri": "https://localhost:8080/"
        },
        "id": "ex3qNiJMA2D1",
        "outputId": "61ad55dc-525a-4a86-c976-a7b796875167"
      },
      "execution_count": 36,
      "outputs": [
        {
          "output_type": "execute_result",
          "data": {
            "text/plain": [
              "Index(['Item_Identifier', 'Item_Weight', 'Item_Fat_Content', 'Item_Visibility',\n",
              "       'Item_Type', 'Item_MRP', 'Outlet_Identifier',\n",
              "       'Outlet_Establishment_Year', 'Outlet_Size', 'Outlet_Location_Type',\n",
              "       'Outlet_Type', 'Item_Outlet_Sales'],\n",
              "      dtype='object')"
            ]
          },
          "metadata": {},
          "execution_count": 36
        }
      ]
    },
    {
      "cell_type": "markdown",
      "source": [
        "Histogram to view the distributions of various features in the dataset."
      ],
      "metadata": {
        "id": "XD5BYSIJAgeS"
      }
    },
    {
      "cell_type": "code",
      "source": [
        "import seaborn as sns\n",
        "sns.histplot(data=df, x=\"Item_Outlet_Sales\", bins=20);"
      ],
      "metadata": {
        "colab": {
          "base_uri": "https://localhost:8080/",
          "height": 280
        },
        "id": "97_bZNKyA4SD",
        "outputId": "5170078c-cea8-4756-fbc9-71ad3c2933a8"
      },
      "execution_count": 37,
      "outputs": [
        {
          "output_type": "display_data",
          "data": {
            "text/plain": [
              "<Figure size 432x288 with 1 Axes>"
            ],
            "image/png": "[encoded data removed]"
          },
          "metadata": {
            "needs_background": "light"
          }
        }
      ]
    },
    {
      "cell_type": "code",
      "source": [
        "sns.histplot(data=df, x=\"Item_Weight\", bins=20, kde=True);"
      ],
      "metadata": {
        "colab": {
          "base_uri": "https://localhost:8080/",
          "height": 280
        },
        "id": "Codqy826BPw9",
        "outputId": "98b0b162-c980-4d3c-80c4-9b133cdebec3"
      },
      "execution_count": 38,
      "outputs": [
        {
          "output_type": "display_data",
          "data": {
            "text/plain": [
              "<Figure size 432x288 with 1 Axes>"
            ],
            "image/png": "[encoded data removed]"
          },
          "metadata": {
            "needs_background": "light"
          }
        }
      ]
    },
    {
      "cell_type": "code",
      "source": [
        "sns.histplot(data=df, y=\"Item_Outlet_Sales\", hue=\"Outlet_Establishment_Year\", bins=10);"
      ],
      "metadata": {
        "colab": {
          "base_uri": "https://localhost:8080/",
          "height": 279
        },
        "id": "jx0NQze1BPpd",
        "outputId": "10d98088-2345-44f5-9d38-f488fcbe0c1d"
      },
      "execution_count": 39,
      "outputs": [
        {
          "output_type": "display_data",
          "data": {
            "text/plain": [
              "<Figure size 432x288 with 1 Axes>"
            ],
            "image/png": "[encoded data removed]"
          },
          "metadata": {
            "needs_background": "light"
          }
        }
      ]
    },
    {
      "cell_type": "code",
      "source": [
        "sns.histplot(data=df, x=\"Outlet_Establishment_Year\", kde=True);"
      ],
      "metadata": {
        "colab": {
          "base_uri": "https://localhost:8080/",
          "height": 280
        },
        "id": "zhJn7o5QC4ca",
        "outputId": "8c8ae584-d214-4578-cf37-b6d6b50aa8a7"
      },
      "execution_count": 40,
      "outputs": [
        {
          "output_type": "display_data",
          "data": {
            "text/plain": [
              "<Figure size 432x288 with 1 Axes>"
            ],
            "image/png": "[encoded data removed]"
          },
          "metadata": {
            "needs_background": "light"
          }
        }
      ]
    },
    {
      "cell_type": "markdown",
      "source": [
        "Boxplot to view statistical summaries of various features in the dataset."
      ],
      "metadata": {
        "id": "2I33ijLkAg_A"
      }
    },
    {
      "cell_type": "code",
      "source": [
        "sns.boxplot(x=\"Outlet_Establishment_Year\", y=\"Item_Outlet_Sales\", data=df, palette=\"Set3\");"
      ],
      "metadata": {
        "colab": {
          "base_uri": "https://localhost:8080/",
          "height": 280
        },
        "id": "5DgquSUNDY3b",
        "outputId": "dabca99d-d00f-432d-ec1d-d6692331defa"
      },
      "execution_count": 41,
      "outputs": [
        {
          "output_type": "display_data",
          "data": {
            "text/plain": [
              "<Figure size 432x288 with 1 Axes>"
            ],
            "image/png": "[encoded data removed]"
          },
          "metadata": {
            "needs_background": "light"
          }
        }
      ]
    },
    {
      "cell_type": "code",
      "source": [
        "sns.boxplot(x=\"Outlet_Type\", y=\"Item_Outlet_Sales\", data=df, palette=\"Set3\");"
      ],
      "metadata": {
        "colab": {
          "base_uri": "https://localhost:8080/",
          "height": 280
        },
        "id": "aIoascDJDY0T",
        "outputId": "b38930ca-803f-456f-9446-3aa479e4150f"
      },
      "execution_count": 42,
      "outputs": [
        {
          "output_type": "display_data",
          "data": {
            "text/plain": [
              "<Figure size 432x288 with 1 Axes>"
            ],
            "image/png": "[encoded data removed]"
          },
          "metadata": {
            "needs_background": "light"
          }
        }
      ]
    },
    {
      "cell_type": "code",
      "source": [
        "sns.boxplot(x=\"Outlet_Location_Type\", y=\"Item_Visibility\", data=df, palette=\"Set3\");"
      ],
      "metadata": {
        "colab": {
          "base_uri": "https://localhost:8080/",
          "height": 280
        },
        "id": "bypIKKZ4DYwS",
        "outputId": "fb78305d-c37c-4ab7-8aa1-45ca8e86ebb3"
      },
      "execution_count": 43,
      "outputs": [
        {
          "output_type": "display_data",
          "data": {
            "text/plain": [
              "<Figure size 432x288 with 1 Axes>"
            ],
            "image/png": "[encoded data removed]"
          },
          "metadata": {
            "needs_background": "light"
          }
        }
      ]
    },
    {
      "cell_type": "code",
      "source": [
        "sns.boxplot(x=\"Item_Fat_Content\", y=\"Item_Weight\", data=df, palette=\"Set3\");"
      ],
      "metadata": {
        "colab": {
          "base_uri": "https://localhost:8080/",
          "height": 280
        },
        "id": "b2PYovDxDYo0",
        "outputId": "1507f60c-77b5-4310-f00d-2c202da65058"
      },
      "execution_count": 44,
      "outputs": [
        {
          "output_type": "display_data",
          "data": {
            "text/plain": [
              "<Figure size 432x288 with 1 Axes>"
            ],
            "image/png": "[encoded data removed]"
          },
          "metadata": {
            "needs_background": "light"
          }
        }
      ]
    },
    {
      "cell_type": "code",
      "source": [
        "sns.boxplot(x=\"Item_Type\", y=\"Item_MRP\", data=df, palette=\"Set3\");"
      ],
      "metadata": {
        "colab": {
          "base_uri": "https://localhost:8080/",
          "height": 280
        },
        "id": "aXWr_WCeGs-W",
        "outputId": "5b3bcdf2-0982-4cb1-e8b8-312fe53de735"
      },
      "execution_count": 45,
      "outputs": [
        {
          "output_type": "display_data",
          "data": {
            "text/plain": [
              "<Figure size 432x288 with 1 Axes>"
            ],
            "image/png": "[encoded data removed]"
          },
          "metadata": {
            "needs_background": "light"
          }
        }
      ]
    },
    {
      "cell_type": "markdown",
      "source": [
        "Heatmap of the correlation between features."
      ],
      "metadata": {
        "id": "8D3qeVBnAjhW"
      }
    },
    {
      "cell_type": "code",
      "source": [
        "corr = df.corr()"
      ],
      "metadata": {
        "id": "38fWFt-BHMhl"
      },
      "execution_count": 46,
      "outputs": []
    },
    {
      "cell_type": "code",
      "source": [
        "sns.heatmap(corr, square=True, cmap='Blues');"
      ],
      "metadata": {
        "colab": {
          "base_uri": "https://localhost:8080/",
          "height": 392
        },
        "id": "OR_-vydBSmwB",
        "outputId": "717b4db7-b282-46bb-c10a-cd0eab96c544"
      },
      "execution_count": 47,
      "outputs": [
        {
          "output_type": "display_data",
          "data": {
            "text/plain": [
              "<Figure size 432x288 with 2 Axes>"
            ],
            "image/png": "[encoded data removed]"
          },
          "metadata": {
            "needs_background": "light"
          }
        }
      ]
    },
    {
      "cell_type": "code",
      "source": [
        "sns.heatmap(corr, cbar=0, linewidths=2,vmax=1, vmin=0, square=True, cmap='Blues');"
      ],
      "metadata": {
        "colab": {
          "base_uri": "https://localhost:8080/",
          "height": 388
        },
        "id": "qqyH0ZvTSDMQ",
        "outputId": "66fb99f7-f41b-4c4c-8d3f-14e061657812"
      },
      "execution_count": 48,
      "outputs": [
        {
          "output_type": "display_data",
          "data": {
            "text/plain": [
              "<Figure size 432x288 with 1 Axes>"
            ],
            "image/png": "[encoded data removed]"
          },
          "metadata": {
            "needs_background": "light"
          }
        }
      ]
    },
    {
      "cell_type": "markdown",
      "source": [
        "Item_MRP and Item_Outlet_Sales have a positive correlation."
      ],
      "metadata": {
        "id": "D8rN8VN9T4wS"
      }
    }
  ]
}